{
 "cells": [
  {
   "cell_type": "markdown",
   "id": "df64cca3",
   "metadata": {
    "toc": true
   },
   "source": [
    "<h1>Table of Contents<span class=\"tocSkip\"></span></h1>\n",
    "<div class=\"toc\"><ul class=\"toc-item\"></ul></div>"
   ]
  },
  {
   "cell_type": "code",
   "execution_count": 39,
   "id": "519538de",
   "metadata": {
    "ExecuteTime": {
     "end_time": "2021-11-21T16:41:04.519433Z",
     "start_time": "2021-11-21T16:41:04.504179Z"
    }
   },
   "outputs": [],
   "source": [
    "import numpy as np\n",
    "import pandas as pd\n",
    "import matplotlib.pyplot as plt\n",
    "import seaborn as sns"
   ]
  },
  {
   "cell_type": "code",
   "execution_count": 24,
   "id": "b25dc2f2",
   "metadata": {
    "ExecuteTime": {
     "end_time": "2021-11-21T16:30:55.892930Z",
     "start_time": "2021-11-21T16:30:55.877887Z"
    }
   },
   "outputs": [],
   "source": [
    "#Cargando los Datos\n",
    "\n",
    "experiencia = pd.Series([1.1,1.3,1.5,2.0,2.2,2.9,3.0,3.2,3.2,3.7,3.9,4.0,4.0,4.1,4.5,4.9,5.1,5.3,5.9,6.0,6.8,7.1,7.9,8.2,8.7,9.0,9.5,9.6,10.3,10.5])\n",
    "\n",
    "salario = pd.Series([39343.00, 46205.00, 37731.00, 43525.00, 39891.00, 56642.00, 60150.00, 54445.00, 64445.00, 57189.00, 63218.00, 55794.00, 56957.00, 57081.00, 61111.00, 67938.00, 66029.00, 83088.00, 81363.00, 93940.00, 91738.00, 98273.00, 101302.00, 113812.00, 109431.00, 105582.00, 116969.00, 112635.00, 122391.00, 121872.00])"
   ]
  },
  {
   "cell_type": "code",
   "execution_count": 25,
   "id": "a00d5885",
   "metadata": {
    "ExecuteTime": {
     "end_time": "2021-11-21T16:30:56.271635Z",
     "start_time": "2021-11-21T16:30:56.234138Z"
    }
   },
   "outputs": [
    {
     "data": {
      "text/html": [
       "<div>\n",
       "<style scoped>\n",
       "    .dataframe tbody tr th:only-of-type {\n",
       "        vertical-align: middle;\n",
       "    }\n",
       "\n",
       "    .dataframe tbody tr th {\n",
       "        vertical-align: top;\n",
       "    }\n",
       "\n",
       "    .dataframe thead th {\n",
       "        text-align: right;\n",
       "    }\n",
       "</style>\n",
       "<table border=\"1\" class=\"dataframe\">\n",
       "  <thead>\n",
       "    <tr style=\"text-align: right;\">\n",
       "      <th></th>\n",
       "      <th>Experiencia</th>\n",
       "      <th>Series</th>\n",
       "    </tr>\n",
       "  </thead>\n",
       "  <tbody>\n",
       "    <tr>\n",
       "      <th>0</th>\n",
       "      <td>1.1</td>\n",
       "      <td>39343.0</td>\n",
       "    </tr>\n",
       "    <tr>\n",
       "      <th>1</th>\n",
       "      <td>1.3</td>\n",
       "      <td>46205.0</td>\n",
       "    </tr>\n",
       "    <tr>\n",
       "      <th>2</th>\n",
       "      <td>1.5</td>\n",
       "      <td>37731.0</td>\n",
       "    </tr>\n",
       "    <tr>\n",
       "      <th>3</th>\n",
       "      <td>2.0</td>\n",
       "      <td>43525.0</td>\n",
       "    </tr>\n",
       "    <tr>\n",
       "      <th>4</th>\n",
       "      <td>2.2</td>\n",
       "      <td>39891.0</td>\n",
       "    </tr>\n",
       "    <tr>\n",
       "      <th>5</th>\n",
       "      <td>2.9</td>\n",
       "      <td>56642.0</td>\n",
       "    </tr>\n",
       "    <tr>\n",
       "      <th>6</th>\n",
       "      <td>3.0</td>\n",
       "      <td>60150.0</td>\n",
       "    </tr>\n",
       "    <tr>\n",
       "      <th>7</th>\n",
       "      <td>3.2</td>\n",
       "      <td>54445.0</td>\n",
       "    </tr>\n",
       "    <tr>\n",
       "      <th>8</th>\n",
       "      <td>3.2</td>\n",
       "      <td>64445.0</td>\n",
       "    </tr>\n",
       "    <tr>\n",
       "      <th>9</th>\n",
       "      <td>3.7</td>\n",
       "      <td>57189.0</td>\n",
       "    </tr>\n",
       "    <tr>\n",
       "      <th>10</th>\n",
       "      <td>3.9</td>\n",
       "      <td>63218.0</td>\n",
       "    </tr>\n",
       "    <tr>\n",
       "      <th>11</th>\n",
       "      <td>4.0</td>\n",
       "      <td>55794.0</td>\n",
       "    </tr>\n",
       "    <tr>\n",
       "      <th>12</th>\n",
       "      <td>4.0</td>\n",
       "      <td>56957.0</td>\n",
       "    </tr>\n",
       "    <tr>\n",
       "      <th>13</th>\n",
       "      <td>4.1</td>\n",
       "      <td>57081.0</td>\n",
       "    </tr>\n",
       "    <tr>\n",
       "      <th>14</th>\n",
       "      <td>4.5</td>\n",
       "      <td>61111.0</td>\n",
       "    </tr>\n",
       "    <tr>\n",
       "      <th>15</th>\n",
       "      <td>4.9</td>\n",
       "      <td>67938.0</td>\n",
       "    </tr>\n",
       "    <tr>\n",
       "      <th>16</th>\n",
       "      <td>5.1</td>\n",
       "      <td>66029.0</td>\n",
       "    </tr>\n",
       "    <tr>\n",
       "      <th>17</th>\n",
       "      <td>5.3</td>\n",
       "      <td>83088.0</td>\n",
       "    </tr>\n",
       "    <tr>\n",
       "      <th>18</th>\n",
       "      <td>5.9</td>\n",
       "      <td>81363.0</td>\n",
       "    </tr>\n",
       "    <tr>\n",
       "      <th>19</th>\n",
       "      <td>6.0</td>\n",
       "      <td>93940.0</td>\n",
       "    </tr>\n",
       "    <tr>\n",
       "      <th>20</th>\n",
       "      <td>6.8</td>\n",
       "      <td>91738.0</td>\n",
       "    </tr>\n",
       "    <tr>\n",
       "      <th>21</th>\n",
       "      <td>7.1</td>\n",
       "      <td>98273.0</td>\n",
       "    </tr>\n",
       "    <tr>\n",
       "      <th>22</th>\n",
       "      <td>7.9</td>\n",
       "      <td>101302.0</td>\n",
       "    </tr>\n",
       "    <tr>\n",
       "      <th>23</th>\n",
       "      <td>8.2</td>\n",
       "      <td>113812.0</td>\n",
       "    </tr>\n",
       "    <tr>\n",
       "      <th>24</th>\n",
       "      <td>8.7</td>\n",
       "      <td>109431.0</td>\n",
       "    </tr>\n",
       "    <tr>\n",
       "      <th>25</th>\n",
       "      <td>9.0</td>\n",
       "      <td>105582.0</td>\n",
       "    </tr>\n",
       "    <tr>\n",
       "      <th>26</th>\n",
       "      <td>9.5</td>\n",
       "      <td>116969.0</td>\n",
       "    </tr>\n",
       "    <tr>\n",
       "      <th>27</th>\n",
       "      <td>9.6</td>\n",
       "      <td>112635.0</td>\n",
       "    </tr>\n",
       "    <tr>\n",
       "      <th>28</th>\n",
       "      <td>10.3</td>\n",
       "      <td>122391.0</td>\n",
       "    </tr>\n",
       "    <tr>\n",
       "      <th>29</th>\n",
       "      <td>10.5</td>\n",
       "      <td>121872.0</td>\n",
       "    </tr>\n",
       "  </tbody>\n",
       "</table>\n",
       "</div>"
      ],
      "text/plain": [
       "    Experiencia    Series\n",
       "0           1.1   39343.0\n",
       "1           1.3   46205.0\n",
       "2           1.5   37731.0\n",
       "3           2.0   43525.0\n",
       "4           2.2   39891.0\n",
       "5           2.9   56642.0\n",
       "6           3.0   60150.0\n",
       "7           3.2   54445.0\n",
       "8           3.2   64445.0\n",
       "9           3.7   57189.0\n",
       "10          3.9   63218.0\n",
       "11          4.0   55794.0\n",
       "12          4.0   56957.0\n",
       "13          4.1   57081.0\n",
       "14          4.5   61111.0\n",
       "15          4.9   67938.0\n",
       "16          5.1   66029.0\n",
       "17          5.3   83088.0\n",
       "18          5.9   81363.0\n",
       "19          6.0   93940.0\n",
       "20          6.8   91738.0\n",
       "21          7.1   98273.0\n",
       "22          7.9  101302.0\n",
       "23          8.2  113812.0\n",
       "24          8.7  109431.0\n",
       "25          9.0  105582.0\n",
       "26          9.5  116969.0\n",
       "27          9.6  112635.0\n",
       "28         10.3  122391.0\n",
       "29         10.5  121872.0"
      ]
     },
     "execution_count": 25,
     "metadata": {},
     "output_type": "execute_result"
    }
   ],
   "source": [
    "#los unifico en una sola tabla\n",
    "\n",
    "df=pd.DataFrame({'Experiencia':Experiencia, 'Series':salario})\n",
    "df"
   ]
  },
  {
   "cell_type": "code",
   "execution_count": 26,
   "id": "4998ebc5",
   "metadata": {
    "ExecuteTime": {
     "end_time": "2021-11-21T16:30:56.585889Z",
     "start_time": "2021-11-21T16:30:56.570873Z"
    }
   },
   "outputs": [
    {
     "data": {
      "text/plain": [
       "0"
      ]
     },
     "execution_count": 26,
     "metadata": {},
     "output_type": "execute_result"
    }
   ],
   "source": [
    "#Hacer una consultar para ver si hay nulos en salarios\n",
    "salario.isnull().sum()"
   ]
  },
  {
   "cell_type": "code",
   "execution_count": 27,
   "id": "44a2e3ee",
   "metadata": {
    "ExecuteTime": {
     "end_time": "2021-11-21T16:30:56.965026Z",
     "start_time": "2021-11-21T16:30:56.944586Z"
    }
   },
   "outputs": [
    {
     "data": {
      "text/plain": [
       "0"
      ]
     },
     "execution_count": 27,
     "metadata": {},
     "output_type": "execute_result"
    }
   ],
   "source": [
    "#Hacer una consultar para ver si hay nulos en expereciencia\n",
    "experiencia.isnull().sum()"
   ]
  },
  {
   "cell_type": "code",
   "execution_count": 28,
   "id": "f1c715ed",
   "metadata": {
    "ExecuteTime": {
     "end_time": "2021-11-21T16:30:57.512162Z",
     "start_time": "2021-11-21T16:30:57.321713Z"
    }
   },
   "outputs": [
    {
     "data": {
      "image/png": "[encoded data removed]",
      "text/plain": [
       "<Figure size 360x360 with 1 Axes>"
      ]
     },
     "metadata": {
      "needs_background": "light"
     },
     "output_type": "display_data"
    }
   ],
   "source": [
    "#Graficar de relacion de valores\n",
    "sns.displot(salario, bins=10)\n",
    "plt.show()"
   ]
  },
  {
   "cell_type": "code",
   "execution_count": 29,
   "id": "9ae3a579",
   "metadata": {
    "ExecuteTime": {
     "end_time": "2021-11-21T16:30:58.357634Z",
     "start_time": "2021-11-21T16:30:58.154675Z"
    }
   },
   "outputs": [
    {
     "data": {
      "text/plain": [
       "<AxesSubplot:>"
      ]
     },
     "execution_count": 29,
     "metadata": {},
     "output_type": "execute_result"
    },
    {
     "data": {
      "image/png": "[encoded data removed]",
      "text/plain": [
       "<Figure size 432x288 with 2 Axes>"
      ]
     },
     "metadata": {
      "needs_background": "light"
     },
     "output_type": "display_data"
    }
   ],
   "source": [
    "#Matriz de correlacion de pearson, que nos sirve para medir la relacion lineal entra par de elemento o variables\n",
    "correlacion_matriz_salary=np.corrcoef(salario,experiencia) #coeficiente de correlacion\n",
    "sns.heatmap(data=correlacion_matriz_salary,annot=True) #Para hacer un mapa de calor"
   ]
  },
  {
   "cell_type": "code",
   "execution_count": 30,
   "id": "e0dcd6c9",
   "metadata": {
    "ExecuteTime": {
     "end_time": "2021-11-21T16:30:58.776719Z",
     "start_time": "2021-11-21T16:30:58.764722Z"
    }
   },
   "outputs": [],
   "source": [
    "#Lo que observamos es que la diagonal de izquiera a derecha siempre  va a ser 1\n",
    "#Y la diagonal derecha a izquieda no dice cuanto varia desde ese valor, en este caso es 0.98 la correlacion de pearson\n",
    "#Concluye que la correlacion es muy buena"
   ]
  },
  {
   "cell_type": "code",
   "execution_count": 31,
   "id": "37b2ba1e",
   "metadata": {
    "ExecuteTime": {
     "end_time": "2021-11-21T16:30:59.576249Z",
     "start_time": "2021-11-21T16:30:59.261905Z"
    }
   },
   "outputs": [
    {
     "data": {
      "text/plain": [
       "Text(0, 0.5, 'Salario')"
      ]
     },
     "execution_count": 31,
     "metadata": {},
     "output_type": "execute_result"
    },
    {
     "data": {
      "image/png": "[encoded data removed]",
      "text/plain": [
       "<Figure size 432x288 with 1 Axes>"
      ]
     },
     "metadata": {
      "needs_background": "light"
     },
     "output_type": "display_data"
    }
   ],
   "source": [
    "#Grafica de Expereciencia vs salario\n",
    "\n",
    "plt.scatter(experiencia,salario)\n",
    "plt.title(\"Experiencia vs salario\")\n",
    "plt.xlabel(\"Experiencia\")\n",
    "plt.ylabel(\"Salario\")"
   ]
  },
  {
   "cell_type": "code",
   "execution_count": 32,
   "id": "f83ec42e",
   "metadata": {
    "ExecuteTime": {
     "end_time": "2021-11-21T16:31:00.029920Z",
     "start_time": "2021-11-21T16:31:00.006118Z"
    }
   },
   "outputs": [
    {
     "name": "stdout",
     "output_type": "stream",
     "text": [
      "maximo valor 122391.0\n",
      "minimo valor 37731.0\n",
      "promedio salario 76003.0\n",
      "desviacion estandar salario 27414.4297845823\n"
     ]
    }
   ],
   "source": [
    "print('maximo valor {}'.format(salario.max()))\n",
    "print('minimo valor {}'.format(salario.min()))\n",
    "print('promedio salario {}'.format(salario.mean()))\n",
    "print('desviacion estandar salario {}'.format(salario.std()))"
   ]
  },
  {
   "cell_type": "code",
   "execution_count": 35,
   "id": "ebc40503",
   "metadata": {
    "ExecuteTime": {
     "end_time": "2021-11-21T16:39:23.718157Z",
     "start_time": "2021-11-21T16:39:23.700153Z"
    }
   },
   "outputs": [
    {
     "name": "stdout",
     "output_type": "stream",
     "text": [
      "(24, 1)\n",
      "(6,)\n",
      "(24,)\n",
      "(6,)\n"
     ]
    }
   ],
   "source": [
    "#DATO DE EXPERENCIA, DE ENTRENAMIENTO Y DE TESTEO\n",
    "x_experiencia= experiencia\n",
    "y_salario=salario\n",
    "from sklearn.model_selection import train_test_split\n",
    "x_train, x_test, y_train, y_test= train_test_split(x_experiencia, y_salario, test_size=0.2, random_state=42)\n",
    "\n",
    "print(x_train.shape)\n",
    "print(x_test.shape)\n",
    "print(y_train.shape)\n",
    "print(y_test.shape)"
   ]
  },
  {
   "cell_type": "code",
   "execution_count": null,
   "id": "5d10d1b6",
   "metadata": {},
   "outputs": [],
   "source": [
    "#CALCULAR EL COEFICIENTE DE CORRELACION"
   ]
  },
  {
   "cell_type": "code",
   "execution_count": null,
   "id": "5186dad4",
   "metadata": {},
   "outputs": [],
   "source": []
  },
  {
   "cell_type": "code",
   "execution_count": 44,
   "id": "9b4d7d34",
   "metadata": {
    "ExecuteTime": {
     "end_time": "2021-11-21T16:42:23.439576Z",
     "start_time": "2021-11-21T16:42:23.415451Z"
    }
   },
   "outputs": [
    {
     "data": {
      "text/plain": [
       "LinearRegression()"
      ]
     },
     "execution_count": 44,
     "metadata": {},
     "output_type": "execute_result"
    }
   ],
   "source": [
    "from sklearn.linear_model import LinearRegression\n",
    "from sklearn.metrics import mean_squared_error\n",
    "#x_train=x_train.values.reshape(-1, 1)\n",
    "lin_model= LinearRegression()\n",
    "lin_model.fit(x_train,y_train)"
   ]
  },
  {
   "cell_type": "code",
   "execution_count": 47,
   "id": "34301347",
   "metadata": {
    "ExecuteTime": {
     "end_time": "2021-11-21T16:49:39.334303Z",
     "start_time": "2021-11-21T16:49:39.318254Z"
    }
   },
   "outputs": [
    {
     "name": "stdout",
     "output_type": "stream",
     "text": [
      "El coeficiente de correlacion es:\n",
      "--------------------------------\n",
      "R2 score es 0.9024461774180497\n"
     ]
    }
   ],
   "source": [
    "from sklearn.metrics import r2_score\n",
    "#x_test=x_test.values.reshape(-1, 1)\n",
    "y_test_predict = lin_model.predict(x_test)\n",
    "r2=r2_score(y_test,y_test_predict)\n",
    "print('El coeficiente de correlacion es:')\n",
    "print('--------------------------------')\n",
    "print('R2 score es {}'.format(r2))"
   ]
  },
  {
   "cell_type": "code",
   "execution_count": 49,
   "id": "7f8c18b1",
   "metadata": {
    "ExecuteTime": {
     "end_time": "2021-11-21T16:55:04.068565Z",
     "start_time": "2021-11-21T16:55:04.057806Z"
    }
   },
   "outputs": [
    {
     "name": "stdout",
     "output_type": "stream",
     "text": [
      "Coeficiente: \n",
      " [9423.81532303]\n",
      "Variables independiente: \n",
      " 25321.583011776813\n"
     ]
    }
   ],
   "source": [
    "#CALCULO DE LA PENDIENTE DE LA RECTA Y LA CONSTANTE CUANDO X IGUAL A 0\n",
    "# y=mX + b\n",
    "\n",
    "print('Coeficiente: \\n', lin_model.coef_ )\n",
    "print('Variables independiente: \\n', lin_model.intercept_)"
   ]
  },
  {
   "cell_type": "code",
   "execution_count": 52,
   "id": "f3fd9724",
   "metadata": {
    "ExecuteTime": {
     "end_time": "2021-11-21T16:59:21.276928Z",
     "start_time": "2021-11-21T16:59:21.256863Z"
    }
   },
   "outputs": [
    {
     "data": {
      "text/plain": [
       "array([35687.77986711, 37572.54293172, 39457.30599632, 44169.21365784,\n",
       "       46053.97672244])"
      ]
     },
     "execution_count": 52,
     "metadata": {},
     "output_type": "execute_result"
    }
   ],
   "source": [
    "#RECTA DE LA REGRESION LINEAL SIMPLE, OBTENER LOS 5 PRIMEROS VALORES DEL ARREGLO\n",
    "experiencia= experiencia.values.reshape(-1,1)\n",
    "predicted_dada_salario= lin_model.predict(experiencia)\n",
    "predicted_dada_salario[0:5]"
   ]
  },
  {
   "cell_type": "code",
   "execution_count": 55,
   "id": "dd8cd670",
   "metadata": {
    "ExecuteTime": {
     "end_time": "2021-11-21T17:03:44.012591Z",
     "start_time": "2021-11-21T17:03:43.862420Z"
    }
   },
   "outputs": [
    {
     "data": {
      "image/png": "[encoded data removed]",
      "text/plain": [
       "<Figure size 432x288 with 1 Axes>"
      ]
     },
     "metadata": {
      "needs_background": "light"
     },
     "output_type": "display_data"
    }
   ],
   "source": [
    "#Ahora graficamos la recta conformado por esos valores\n",
    "plt.scatter(experiencia,salario)\n",
    "plt.plot(experiencia,predicted_dada_salario, color='red')\n",
    "plt.title(\"Experiencia vs salario\")\n",
    "plt.xlabel(\"Experiencia\")\n",
    "plt.ylabel(\"Salario\")\n",
    "plt.show()"
   ]
  },
  {
   "cell_type": "code",
   "execution_count": 56,
   "id": "dc86c92e",
   "metadata": {
    "ExecuteTime": {
     "end_time": "2021-11-21T17:06:55.205471Z",
     "start_time": "2021-11-21T17:06:55.186472Z"
    }
   },
   "outputs": [
    {
     "data": {
      "text/html": [
       "<div>\n",
       "<style scoped>\n",
       "    .dataframe tbody tr th:only-of-type {\n",
       "        vertical-align: middle;\n",
       "    }\n",
       "\n",
       "    .dataframe tbody tr th {\n",
       "        vertical-align: top;\n",
       "    }\n",
       "\n",
       "    .dataframe thead th {\n",
       "        text-align: right;\n",
       "    }\n",
       "</style>\n",
       "<table border=\"1\" class=\"dataframe\">\n",
       "  <thead>\n",
       "    <tr style=\"text-align: right;\">\n",
       "      <th></th>\n",
       "      <th>Real</th>\n",
       "      <th>Prediccion</th>\n",
       "    </tr>\n",
       "  </thead>\n",
       "  <tbody>\n",
       "    <tr>\n",
       "      <th>0</th>\n",
       "      <td>39343.0</td>\n",
       "      <td>35687.779867</td>\n",
       "    </tr>\n",
       "    <tr>\n",
       "      <th>1</th>\n",
       "      <td>46205.0</td>\n",
       "      <td>37572.542932</td>\n",
       "    </tr>\n",
       "    <tr>\n",
       "      <th>2</th>\n",
       "      <td>37731.0</td>\n",
       "      <td>39457.305996</td>\n",
       "    </tr>\n",
       "    <tr>\n",
       "      <th>3</th>\n",
       "      <td>43525.0</td>\n",
       "      <td>44169.213658</td>\n",
       "    </tr>\n",
       "    <tr>\n",
       "      <th>4</th>\n",
       "      <td>39891.0</td>\n",
       "      <td>46053.976722</td>\n",
       "    </tr>\n",
       "    <tr>\n",
       "      <th>5</th>\n",
       "      <td>56642.0</td>\n",
       "      <td>52650.647449</td>\n",
       "    </tr>\n",
       "    <tr>\n",
       "      <th>6</th>\n",
       "      <td>60150.0</td>\n",
       "      <td>53593.028981</td>\n",
       "    </tr>\n",
       "    <tr>\n",
       "      <th>7</th>\n",
       "      <td>54445.0</td>\n",
       "      <td>55477.792045</td>\n",
       "    </tr>\n",
       "    <tr>\n",
       "      <th>8</th>\n",
       "      <td>64445.0</td>\n",
       "      <td>55477.792045</td>\n",
       "    </tr>\n",
       "    <tr>\n",
       "      <th>9</th>\n",
       "      <td>57189.0</td>\n",
       "      <td>60189.699707</td>\n",
       "    </tr>\n",
       "    <tr>\n",
       "      <th>10</th>\n",
       "      <td>63218.0</td>\n",
       "      <td>62074.462772</td>\n",
       "    </tr>\n",
       "    <tr>\n",
       "      <th>11</th>\n",
       "      <td>55794.0</td>\n",
       "      <td>63016.844304</td>\n",
       "    </tr>\n",
       "    <tr>\n",
       "      <th>12</th>\n",
       "      <td>56957.0</td>\n",
       "      <td>63016.844304</td>\n",
       "    </tr>\n",
       "    <tr>\n",
       "      <th>13</th>\n",
       "      <td>57081.0</td>\n",
       "      <td>63959.225836</td>\n",
       "    </tr>\n",
       "    <tr>\n",
       "      <th>14</th>\n",
       "      <td>61111.0</td>\n",
       "      <td>67728.751965</td>\n",
       "    </tr>\n",
       "    <tr>\n",
       "      <th>15</th>\n",
       "      <td>67938.0</td>\n",
       "      <td>71498.278095</td>\n",
       "    </tr>\n",
       "    <tr>\n",
       "      <th>16</th>\n",
       "      <td>66029.0</td>\n",
       "      <td>73383.041159</td>\n",
       "    </tr>\n",
       "    <tr>\n",
       "      <th>17</th>\n",
       "      <td>83088.0</td>\n",
       "      <td>75267.804224</td>\n",
       "    </tr>\n",
       "    <tr>\n",
       "      <th>18</th>\n",
       "      <td>81363.0</td>\n",
       "      <td>80922.093418</td>\n",
       "    </tr>\n",
       "    <tr>\n",
       "      <th>19</th>\n",
       "      <td>93940.0</td>\n",
       "      <td>81864.474950</td>\n",
       "    </tr>\n",
       "    <tr>\n",
       "      <th>20</th>\n",
       "      <td>91738.0</td>\n",
       "      <td>89403.527208</td>\n",
       "    </tr>\n",
       "    <tr>\n",
       "      <th>21</th>\n",
       "      <td>98273.0</td>\n",
       "      <td>92230.671805</td>\n",
       "    </tr>\n",
       "    <tr>\n",
       "      <th>22</th>\n",
       "      <td>101302.0</td>\n",
       "      <td>99769.724064</td>\n",
       "    </tr>\n",
       "    <tr>\n",
       "      <th>23</th>\n",
       "      <td>113812.0</td>\n",
       "      <td>102596.868661</td>\n",
       "    </tr>\n",
       "    <tr>\n",
       "      <th>24</th>\n",
       "      <td>109431.0</td>\n",
       "      <td>107308.776322</td>\n",
       "    </tr>\n",
       "    <tr>\n",
       "      <th>25</th>\n",
       "      <td>105582.0</td>\n",
       "      <td>110135.920919</td>\n",
       "    </tr>\n",
       "    <tr>\n",
       "      <th>26</th>\n",
       "      <td>116969.0</td>\n",
       "      <td>114847.828581</td>\n",
       "    </tr>\n",
       "    <tr>\n",
       "      <th>27</th>\n",
       "      <td>112635.0</td>\n",
       "      <td>115790.210113</td>\n",
       "    </tr>\n",
       "    <tr>\n",
       "      <th>28</th>\n",
       "      <td>122391.0</td>\n",
       "      <td>122386.880839</td>\n",
       "    </tr>\n",
       "    <tr>\n",
       "      <th>29</th>\n",
       "      <td>121872.0</td>\n",
       "      <td>124271.643904</td>\n",
       "    </tr>\n",
       "  </tbody>\n",
       "</table>\n",
       "</div>"
      ],
      "text/plain": [
       "        Real     Prediccion\n",
       "0    39343.0   35687.779867\n",
       "1    46205.0   37572.542932\n",
       "2    37731.0   39457.305996\n",
       "3    43525.0   44169.213658\n",
       "4    39891.0   46053.976722\n",
       "5    56642.0   52650.647449\n",
       "6    60150.0   53593.028981\n",
       "7    54445.0   55477.792045\n",
       "8    64445.0   55477.792045\n",
       "9    57189.0   60189.699707\n",
       "10   63218.0   62074.462772\n",
       "11   55794.0   63016.844304\n",
       "12   56957.0   63016.844304\n",
       "13   57081.0   63959.225836\n",
       "14   61111.0   67728.751965\n",
       "15   67938.0   71498.278095\n",
       "16   66029.0   73383.041159\n",
       "17   83088.0   75267.804224\n",
       "18   81363.0   80922.093418\n",
       "19   93940.0   81864.474950\n",
       "20   91738.0   89403.527208\n",
       "21   98273.0   92230.671805\n",
       "22  101302.0   99769.724064\n",
       "23  113812.0  102596.868661\n",
       "24  109431.0  107308.776322\n",
       "25  105582.0  110135.920919\n",
       "26  116969.0  114847.828581\n",
       "27  112635.0  115790.210113\n",
       "28  122391.0  122386.880839\n",
       "29  121872.0  124271.643904"
      ]
     },
     "execution_count": 56,
     "metadata": {},
     "output_type": "execute_result"
    }
   ],
   "source": [
    "#Mostrar los datos actual vs prediccion\n",
    "\n",
    "df1=pd.DataFrame({'Real': salario, 'Prediccion': predicted_dada_salario })\n",
    "df1"
   ]
  },
  {
   "cell_type": "code",
   "execution_count": 58,
   "id": "730e1f1d",
   "metadata": {
    "ExecuteTime": {
     "end_time": "2021-11-21T17:10:12.794176Z",
     "start_time": "2021-11-21T17:10:12.437257Z"
    }
   },
   "outputs": [
    {
     "data": {
      "image/png": "[encoded data removed]",
      "text/plain": [
       "<Figure size 432x288 with 1 Axes>"
      ]
     },
     "metadata": {
      "needs_background": "light"
     },
     "output_type": "display_data"
    }
   ],
   "source": [
    "#Comparacion de forma grafica\n",
    "\n",
    "df1.head(30).plot(kind='bar')\n",
    "plt.show()"
   ]
  },
  {
   "cell_type": "code",
   "execution_count": null,
   "id": "9b9d7300",
   "metadata": {},
   "outputs": [],
   "source": []
  }
 ],
 "metadata": {
  "kernelspec": {
   "display_name": "Python 3",
   "language": "python",
   "name": "python3"
  },
  "language_info": {
   "codemirror_mode": {
    "name": "ipython",
    "version": 3
   },
   "file_extension": ".py",
   "mimetype": "text/x-python",
   "name": "python",
   "nbconvert_exporter": "python",
   "pygments_lexer": "ipython3",
   "version": "3.8.8"
  },
  "nbTranslate": {
   "displayLangs": [
    "*"
   ],
   "hotkey": "alt-t",
   "langInMainMenu": true,
   "sourceLang": "en",
   "targetLang": "fr",
   "useGoogleTranslate": true
  },
  "toc": {
   "base_numbering": 1,
   "nav_menu": {},
   "number_sections": true,
   "sideBar": true,
   "skip_h1_title": false,
   "title_cell": "Table of Contents",
   "title_sidebar": "Contents",
   "toc_cell": true,
   "toc_position": {},
   "toc_section_display": true,
   "toc_window_display": false
  },
  "varInspector": {
   "cols": {
    "lenName": 16,
    "lenType": 16,
    "lenVar": 40
   },
   "kernels_config": {
    "python": {
     "delete_cmd_postfix": "",
     "delete_cmd_prefix": "del ",
     "library": "var_list.py",
     "varRefreshCmd": "print(var_dic_list())"
    },
    "r": {
     "delete_cmd_postfix": ") ",
     "delete_cmd_prefix": "rm(",
     "library": "var_list.r",
     "varRefreshCmd": "cat(var_dic_list()) "
    }
   },
   "types_to_exclude": [
    "module",
    "function",
    "builtin_function_or_method",
    "instance",
    "_Feature"
   ],
   "window_display": false
  }
 },
 "nbformat": 4,
 "nbformat_minor": 5
}
